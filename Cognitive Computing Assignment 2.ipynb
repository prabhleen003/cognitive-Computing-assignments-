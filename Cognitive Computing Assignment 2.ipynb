{
 "cells": [
  {
   "cell_type": "code",
   "execution_count": 21,
   "id": "05238aeb-07d9-474b-9932-888a90fca023",
   "metadata": {},
   "outputs": [
    {
     "name": "stdout",
     "output_type": "stream",
     "text": [
      "List: [10, 20, 30, 40, 50, 60, 70, 80, 200, 300]\n"
     ]
    }
   ],
   "source": [
    "# Question 1\n",
    "# i: Add 200 and 300 to the list L\n",
    "L = [10, 20, 30, 40, 50, 60, 70, 80]\n",
    "L.append(200)\n",
    "L.append(300)\n",
    "print(\"List:\", L)"
   ]
  },
  {
   "cell_type": "code",
   "execution_count": 22,
   "id": "4bb5a32c-f923-4959-a2d8-539374cdff86",
   "metadata": {},
   "outputs": [
    {
     "name": "stdout",
     "output_type": "stream",
     "text": [
      "after removing 10 and 30: [20, 40, 50, 60, 70, 80, 200, 300]\n"
     ]
    }
   ],
   "source": [
    "# ii: Remove 10 and 30 from the list L\n",
    "L.remove(10)\n",
    "L.remove(30)\n",
    "print(\"after removing 10 and 30:\", L)"
   ]
  },
  {
   "cell_type": "code",
   "execution_count": 23,
   "id": "e65d4770-f9b4-4293-8527-732d0d32a7a2",
   "metadata": {},
   "outputs": [
    {
     "name": "stdout",
     "output_type": "stream",
     "text": [
      "List in asc: [20, 40, 50, 60, 70, 80, 200, 300]\n"
     ]
    }
   ],
   "source": [
    "#  iii: Sort L in ascending order\n",
    "L.sort()\n",
    "print(\"List in asc:\", L)"
   ]
  },
  {
   "cell_type": "code",
   "execution_count": 24,
   "id": "f91cf7e7-7e66-4deb-9b03-705baab5aabf",
   "metadata": {},
   "outputs": [
    {
     "name": "stdout",
     "output_type": "stream",
     "text": [
      " descending order: [300, 200, 80, 70, 60, 50, 40, 20]\n"
     ]
    }
   ],
   "source": [
    "#  iv: Sort L in descending order\n",
    "L.sort(reverse=True)\n",
    "print(\" descending order:\", L)"
   ]
  },
  {
   "cell_type": "code",
   "execution_count": 6,
   "id": "27452013-0541-4e4d-88b6-d1a051b330e3",
   "metadata": {},
   "outputs": [],
   "source": [
    "# Question 2\n",
    "scores = (45, 89.5, 76, 45.4, 89, 92, 58, 45)"
   ]
  },
  {
   "cell_type": "code",
   "execution_count": 25,
   "id": "74ae3a16-68cc-4c64-bceb-96b9168f7d25",
   "metadata": {},
   "outputs": [
    {
     "name": "stdout",
     "output_type": "stream",
     "text": [
      "Highest score: 92 at index: 5\n"
     ]
    }
   ],
   "source": [
    "#  i: Find the highest score and its index\n",
    "hs = max(scores)\n",
    "hi = scores.index(highest_score)\n",
    "print(\"Highest score:\", hs, \"at index:\", hi)"
   ]
  },
  {
   "cell_type": "code",
   "execution_count": 26,
   "id": "43a902f8-bdb3-48ba-a9b6-eabe66a1f3ee",
   "metadata": {},
   "outputs": [
    {
     "name": "stdout",
     "output_type": "stream",
     "text": [
      "Lowest score: 45 appears 2 times\n"
     ]
    }
   ],
   "source": [
    "#  ii: Find the lowest score and its count\n",
    "ls = min(scores)\n",
    "lc = scores.count(lowest_score)\n",
    "print(\"Lowest score:\", ls, \"appears\", lc, \"times\")"
   ]
  },
  {
   "cell_type": "code",
   "execution_count": 27,
   "id": "3fe974a8-985c-4481-9bb2-46e648526f6b",
   "metadata": {},
   "outputs": [
    {
     "name": "stdout",
     "output_type": "stream",
     "text": [
      "[45, 58, 92, 89, 45.4, 76, 89.5, 45]\n"
     ]
    }
   ],
   "source": [
    "#iii: Reverse the tuple and return it as a list\n",
    "rs = list(reversed(scores))\n",
    "print(rs)"
   ]
  },
  {
   "cell_type": "code",
   "execution_count": 28,
   "id": "5a1b2462-9e1a-418d-8187-223369fdaa22",
   "metadata": {},
   "outputs": [
    {
     "name": "stdout",
     "output_type": "stream",
     "text": [
      "Score 76 is present at index 2\n"
     ]
    }
   ],
   "source": [
    "# iv: Check if a specific score (76) is present and its index\n",
    "specific_score = 76\n",
    "if specific_score in scores:\n",
    "    specific_index = scores.index(specific_score)\n",
    "    print(f\"Score {specific_score} is present at index {specific_index}\")\n",
    "else:\n",
    "    print(f\"Score {specific_score}  not present \")\n"
   ]
  },
  {
   "cell_type": "code",
   "execution_count": 29,
   "id": "b95941aa-c0dd-4c7a-ac99-a670a686b03b",
   "metadata": {},
   "outputs": [],
   "source": [
    " # Question 3\n",
    "import random\n",
    "\n",
    "def is_prime(num):\n",
    "    if num < 2:\n",
    "        return False\n",
    "    for i in range(2, int(num**0.5) + 1):\n",
    "        if num % i == 0:\n",
    "            return False\n",
    "    return True"
   ]
  },
  {
   "cell_type": "code",
   "execution_count": 30,
   "id": "bc6a3803-7fcc-4e81-ae36-421dfc7ac5e2",
   "metadata": {},
   "outputs": [
    {
     "name": "stdout",
     "output_type": "stream",
     "text": [
      "Random no.s: [588, 758, 383, 677, 121, 893, 406, 561, 499, 406, 613, 642, 116, 131, 417, 532, 371, 200, 396, 793, 876, 519, 693, 339, 426, 198, 370, 570, 774, 744, 512, 366, 358, 707, 171, 487, 690, 894, 228, 641, 504, 528, 707, 353, 808, 298, 362, 546, 197, 504, 698, 412, 211, 135, 294, 702, 660, 232, 439, 350, 257, 211, 386, 894, 343, 635, 133, 458, 696, 174, 683, 453, 877, 444, 523, 458, 158, 793, 124, 180, 662, 723, 416, 323, 362, 687, 815, 731, 774, 832, 492, 351, 374, 507, 474, 464, 835, 516, 797, 259]\n",
      "Odd no.s.: [423, 709, 199, 873, 333, 675, 681, 223, 451, 213, 153, 117, 743, 373, 561, 669, 569, 503, 501, 783, 219, 609, 629, 507, 205, 627, 561, 613, 753, 851, 815, 205, 103, 511, 305, 429, 791, 147, 769, 455, 341, 179, 167, 449, 461, 551, 463, 157, 895, 289, 477, 465, 577, 471, 299, 785, 723, 815, 327, 701]\n",
      "Even no.s: [508, 362, 740, 532, 582, 138, 162, 566, 108, 742, 892, 826, 158, 518, 390, 426, 732, 532, 380, 166, 406, 766, 380, 620, 112, 406, 110, 214, 388, 292, 800, 644, 428, 282, 180, 348, 382, 770, 576, 216]\n",
      "Prime no.s: [709, 199, 223, 743, 373, 569, 503, 613, 103, 769, 179, 167, 449, 461, 463, 157, 577, 701]\n"
     ]
    }
   ],
   "source": [
    "random = [random.randint(100, 900) for _ in range(100)]\n",
    "odd = [num for num in random_numbers if num % 2 != 0]\n",
    "even = [num for num in random_numbers if num % 2 == 0]\n",
    "prime = [num for num in random_numbers if is_prime(num)]\n",
    "\n",
    "print(\"Random no.s:\", random)\n",
    "print(\"Odd no.s.:\", odd)\n",
    "print(\"Even no.s:\", even)\n",
    "print(\"Prime no.s:\", prime)\n"
   ]
  },
  {
   "cell_type": "code",
   "execution_count": 14,
   "id": "12859bc8-e0ad-4bb0-8348-89ffecebeeed",
   "metadata": {},
   "outputs": [],
   "source": [
    "# Question 4\n",
    "A = {34, 56, 78, 90}\n",
    "B = {78, 45, 90, 23}\n"
   ]
  },
  {
   "cell_type": "code",
   "execution_count": 31,
   "id": "72237874-f7a9-4c5f-a3df-5cb8bff3e773",
   "metadata": {},
   "outputs": [
    {
     "name": "stdout",
     "output_type": "stream",
     "text": [
      "{34, 45, 78, 23, 56, 90}\n"
     ]
    }
   ],
   "source": [
    "# i: Union of sets\n",
    "union = A.union(B)\n",
    "print( union)\n"
   ]
  },
  {
   "cell_type": "code",
   "execution_count": 32,
   "id": "bab7deb2-cdb4-43eb-8214-3a71a1745258",
   "metadata": {},
   "outputs": [
    {
     "name": "stdout",
     "output_type": "stream",
     "text": [
      "{90, 78}\n"
     ]
    }
   ],
   "source": [
    "#  ii: Intersection of sets\n",
    "intersection_s = A.intersection(B)\n",
    "print( intersection_s)"
   ]
  },
  {
   "cell_type": "code",
   "execution_count": 17,
   "id": "b3997562-b940-4a95-8cf7-0316792fedf2",
   "metadata": {},
   "outputs": [
    {
     "name": "stdout",
     "output_type": "stream",
     "text": [
      "Exclusive scores (Symmetric Difference): {34, 45, 23, 56}\n"
     ]
    }
   ],
   "source": [
    "# iii: Symmetric difference of sets\n",
    "sds = A.symmetric_difference(B)\n",
    "print(\"Exclusive scores (Symmetric Difference):\", sds)\n"
   ]
  },
  {
   "cell_type": "code",
   "execution_count": 18,
   "id": "b22b81bd-3cf6-4090-825c-1a2efb9bd5e1",
   "metadata": {},
   "outputs": [
    {
     "name": "stdout",
     "output_type": "stream",
     "text": [
      "Is A a subset of B: False\n",
      "Is B a superset of A: False\n"
     ]
    }
   ],
   "source": [
    "#  iv: Subset and Superset check\n",
    "is_subset = A.issubset(B)\n",
    "is_superset = B.issuperset(A)\n",
    "print(\"Is A a subset of B:\", is_subset)\n",
    "print(\"Is B a superset of A:\", is_superset)\n"
   ]
  },
  {
   "cell_type": "code",
   "execution_count": 19,
   "id": "8aeb713d-24cc-4c37-8d31-0ecc7cf6b270",
   "metadata": {},
   "outputs": [
    {
     "name": "stdin",
     "output_type": "stream",
     "text": [
      "Enter a score to remove from set A:  45\n"
     ]
    },
    {
     "name": "stdout",
     "output_type": "stream",
     "text": [
      "Score 45 is not present in set A.\n"
     ]
    }
   ],
   "source": [
    "# v: Remove a specific score X from set A\n",
    "X = int(input(\"Enter a score to remove from set A: \"))\n",
    "if X in A:\n",
    "    A.remove(X)\n",
    "    print(f\"Score {X} removed from set A. Updated set A:\", A)\n",
    "else:\n",
    "    print(f\"Score {X} is not present in set A.\")\n"
   ]
  },
  {
   "cell_type": "code",
   "execution_count": 20,
   "id": "97d35ca6-030c-477e-8c3b-04938d76cf4a",
   "metadata": {},
   "outputs": [
    {
     "name": "stdout",
     "output_type": "stream",
     "text": [
      "{'name': 'Kelly', 'age': 25, 'salary': 8000, 'location': 'New york'}\n"
     ]
    }
   ],
   "source": [
    "#Question 5\n",
    "sample_dict = {\n",
    "    \"name\": \"Kelly\",\n",
    "    \"age\": 25,\n",
    "    \"salary\": 8000,\n",
    "    \"city\": \"New york\"\n",
    "}\n",
    "sample_dict['location'] = sample_dict.pop('city')\n",
    "print(sample_dict)"
   ]
  },
  {
   "cell_type": "code",
   "execution_count": null,
   "id": "2f9a3539-8d80-4cc0-864e-e39ccf576ef8",
   "metadata": {},
   "outputs": [],
   "source": []
  }
 ],
 "metadata": {
  "kernelspec": {
   "display_name": "Python 3 (ipykernel)",
   "language": "python",
   "name": "python3"
  },
  "language_info": {
   "codemirror_mode": {
    "name": "ipython",
    "version": 3
   },
   "file_extension": ".py",
   "mimetype": "text/x-python",
   "name": "python",
   "nbconvert_exporter": "python",
   "pygments_lexer": "ipython3",
   "version": "3.11.3"
  }
 },
 "nbformat": 4,
 "nbformat_minor": 5
}
