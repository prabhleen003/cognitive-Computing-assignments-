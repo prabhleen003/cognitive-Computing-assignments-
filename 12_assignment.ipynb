{
 "cells": [
  {
   "cell_type": "code",
   "execution_count": 1,
   "id": "c947d071-d7d1-4c97-8812-acb915e17400",
   "metadata": {},
   "outputs": [
    {
     "name": "stdout",
     "output_type": "stream",
     "text": [
      "C:\\Users\\Arushi\\Desktop\\thapar\\sem 4\\UCS712\\ChatterBot\n"
     ]
    },
    {
     "name": "stderr",
     "output_type": "stream",
     "text": [
      "fatal: destination path 'ChatterBot' already exists and is not an empty directory.\n"
     ]
    },
    {
     "name": "stdout",
     "output_type": "stream",
     "text": [
      "Obtaining file:///C:/Users/Arushi/Desktop/thapar/sem%204/UCS712/ChatterBot\n",
      "  Installing build dependencies: started\n",
      "  Installing build dependencies: finished with status 'done'\n",
      "  Checking if build backend supports build_editable: started\n",
      "  Checking if build backend supports build_editable: finished with status 'done'\n",
      "  Getting requirements to build editable: started\n",
      "  Getting requirements to build editable: finished with status 'done'\n",
      "  Preparing editable metadata (pyproject.toml): started\n",
      "  Preparing editable metadata (pyproject.toml): finished with status 'done'\n",
      "Requirement already satisfied: mathparse<0.2,>=0.1 in d:\\python 3.11\\lib\\site-packages (from ChatterBot==1.2.7) (0.1.5)\n",
      "Requirement already satisfied: python-dateutil<2.10,>=2.9 in d:\\python 3.11\\lib\\site-packages (from ChatterBot==1.2.7) (2.9.0.post0)\n",
      "Requirement already satisfied: sqlalchemy<2.1,>=2.0 in d:\\python 3.11\\lib\\site-packages (from ChatterBot==1.2.7) (2.0.40)\n",
      "Requirement already satisfied: spacy<3.9,>=3.8 in d:\\python 3.11\\lib\\site-packages (from ChatterBot==1.2.7) (3.8.5)\n",
      "Requirement already satisfied: tqdm in d:\\python 3.11\\lib\\site-packages (from ChatterBot==1.2.7) (4.67.1)\n",
      "Requirement already satisfied: six>=1.5 in d:\\python 3.11\\lib\\site-packages (from python-dateutil<2.10,>=2.9->ChatterBot==1.2.7) (1.17.0)\n",
      "Requirement already satisfied: spacy-legacy<3.1.0,>=3.0.11 in d:\\python 3.11\\lib\\site-packages (from spacy<3.9,>=3.8->ChatterBot==1.2.7) (3.0.12)\n",
      "Requirement already satisfied: spacy-loggers<2.0.0,>=1.0.0 in d:\\python 3.11\\lib\\site-packages (from spacy<3.9,>=3.8->ChatterBot==1.2.7) (1.0.5)\n",
      "Requirement already satisfied: murmurhash<1.1.0,>=0.28.0 in d:\\python 3.11\\lib\\site-packages (from spacy<3.9,>=3.8->ChatterBot==1.2.7) (1.0.12)\n",
      "Requirement already satisfied: cymem<2.1.0,>=2.0.2 in d:\\python 3.11\\lib\\site-packages (from spacy<3.9,>=3.8->ChatterBot==1.2.7) (2.0.11)\n",
      "Requirement already satisfied: preshed<3.1.0,>=3.0.2 in d:\\python 3.11\\lib\\site-packages (from spacy<3.9,>=3.8->ChatterBot==1.2.7) (3.0.9)\n",
      "Requirement already satisfied: thinc<8.4.0,>=8.3.4 in d:\\python 3.11\\lib\\site-packages (from spacy<3.9,>=3.8->ChatterBot==1.2.7) (8.3.6)\n",
      "Requirement already satisfied: wasabi<1.2.0,>=0.9.1 in d:\\python 3.11\\lib\\site-packages (from spacy<3.9,>=3.8->ChatterBot==1.2.7) (1.1.3)\n",
      "Requirement already satisfied: srsly<3.0.0,>=2.4.3 in d:\\python 3.11\\lib\\site-packages (from spacy<3.9,>=3.8->ChatterBot==1.2.7) (2.5.1)\n",
      "Requirement already satisfied: catalogue<2.1.0,>=2.0.6 in d:\\python 3.11\\lib\\site-packages (from spacy<3.9,>=3.8->ChatterBot==1.2.7) (2.0.10)\n",
      "Requirement already satisfied: weasel<0.5.0,>=0.1.0 in d:\\python 3.11\\lib\\site-packages (from spacy<3.9,>=3.8->ChatterBot==1.2.7) (0.4.1)\n",
      "Requirement already satisfied: typer<1.0.0,>=0.3.0 in d:\\python 3.11\\lib\\site-packages (from spacy<3.9,>=3.8->ChatterBot==1.2.7) (0.15.2)\n",
      "Requirement already satisfied: numpy>=1.19.0 in d:\\python 3.11\\lib\\site-packages (from spacy<3.9,>=3.8->ChatterBot==1.2.7) (2.2.5)\n",
      "Requirement already satisfied: requests<3.0.0,>=2.13.0 in d:\\python 3.11\\lib\\site-packages (from spacy<3.9,>=3.8->ChatterBot==1.2.7) (2.32.3)\n",
      "Requirement already satisfied: pydantic!=1.8,!=1.8.1,<3.0.0,>=1.7.4 in d:\\python 3.11\\lib\\site-packages (from spacy<3.9,>=3.8->ChatterBot==1.2.7) (2.11.3)\n",
      "Requirement already satisfied: jinja2 in d:\\python 3.11\\lib\\site-packages (from spacy<3.9,>=3.8->ChatterBot==1.2.7) (3.1.6)\n",
      "Requirement already satisfied: setuptools in d:\\python 3.11\\lib\\site-packages (from spacy<3.9,>=3.8->ChatterBot==1.2.7) (77.0.3)\n",
      "Requirement already satisfied: packaging>=20.0 in d:\\python 3.11\\lib\\site-packages (from spacy<3.9,>=3.8->ChatterBot==1.2.7) (24.2)\n",
      "Requirement already satisfied: langcodes<4.0.0,>=3.2.0 in d:\\python 3.11\\lib\\site-packages (from spacy<3.9,>=3.8->ChatterBot==1.2.7) (3.5.0)\n",
      "Requirement already satisfied: greenlet>=1 in d:\\python 3.11\\lib\\site-packages (from sqlalchemy<2.1,>=2.0->ChatterBot==1.2.7) (3.2.1)\n",
      "Requirement already satisfied: typing-extensions>=4.6.0 in d:\\python 3.11\\lib\\site-packages (from sqlalchemy<2.1,>=2.0->ChatterBot==1.2.7) (4.12.2)\n",
      "Requirement already satisfied: colorama in d:\\python 3.11\\lib\\site-packages (from tqdm->ChatterBot==1.2.7) (0.4.6)\n",
      "Requirement already satisfied: language-data>=1.2 in d:\\python 3.11\\lib\\site-packages (from langcodes<4.0.0,>=3.2.0->spacy<3.9,>=3.8->ChatterBot==1.2.7) (1.3.0)\n",
      "Requirement already satisfied: annotated-types>=0.6.0 in d:\\python 3.11\\lib\\site-packages (from pydantic!=1.8,!=1.8.1,<3.0.0,>=1.7.4->spacy<3.9,>=3.8->ChatterBot==1.2.7) (0.7.0)\n",
      "Requirement already satisfied: pydantic-core==2.33.1 in d:\\python 3.11\\lib\\site-packages (from pydantic!=1.8,!=1.8.1,<3.0.0,>=1.7.4->spacy<3.9,>=3.8->ChatterBot==1.2.7) (2.33.1)\n",
      "Requirement already satisfied: typing-inspection>=0.4.0 in d:\\python 3.11\\lib\\site-packages (from pydantic!=1.8,!=1.8.1,<3.0.0,>=1.7.4->spacy<3.9,>=3.8->ChatterBot==1.2.7) (0.4.0)\n",
      "Requirement already satisfied: charset-normalizer<4,>=2 in d:\\python 3.11\\lib\\site-packages (from requests<3.0.0,>=2.13.0->spacy<3.9,>=3.8->ChatterBot==1.2.7) (3.4.1)\n",
      "Requirement already satisfied: idna<4,>=2.5 in d:\\python 3.11\\lib\\site-packages (from requests<3.0.0,>=2.13.0->spacy<3.9,>=3.8->ChatterBot==1.2.7) (3.10)\n",
      "Requirement already satisfied: urllib3<3,>=1.21.1 in d:\\python 3.11\\lib\\site-packages (from requests<3.0.0,>=2.13.0->spacy<3.9,>=3.8->ChatterBot==1.2.7) (2.3.0)\n",
      "Requirement already satisfied: certifi>=2017.4.17 in d:\\python 3.11\\lib\\site-packages (from requests<3.0.0,>=2.13.0->spacy<3.9,>=3.8->ChatterBot==1.2.7) (2025.1.31)\n",
      "Requirement already satisfied: blis<1.4.0,>=1.3.0 in d:\\python 3.11\\lib\\site-packages (from thinc<8.4.0,>=8.3.4->spacy<3.9,>=3.8->ChatterBot==1.2.7) (1.3.0)\n",
      "Requirement already satisfied: confection<1.0.0,>=0.0.1 in d:\\python 3.11\\lib\\site-packages (from thinc<8.4.0,>=8.3.4->spacy<3.9,>=3.8->ChatterBot==1.2.7) (0.1.5)\n",
      "Requirement already satisfied: click>=8.0.0 in d:\\python 3.11\\lib\\site-packages (from typer<1.0.0,>=0.3.0->spacy<3.9,>=3.8->ChatterBot==1.2.7) (8.1.8)\n",
      "Requirement already satisfied: shellingham>=1.3.0 in d:\\python 3.11\\lib\\site-packages (from typer<1.0.0,>=0.3.0->spacy<3.9,>=3.8->ChatterBot==1.2.7) (1.5.4)\n",
      "Requirement already satisfied: rich>=10.11.0 in d:\\python 3.11\\lib\\site-packages (from typer<1.0.0,>=0.3.0->spacy<3.9,>=3.8->ChatterBot==1.2.7) (13.9.4)\n",
      "Requirement already satisfied: cloudpathlib<1.0.0,>=0.7.0 in d:\\python 3.11\\lib\\site-packages (from weasel<0.5.0,>=0.1.0->spacy<3.9,>=3.8->ChatterBot==1.2.7) (0.21.0)\n",
      "Requirement already satisfied: smart-open<8.0.0,>=5.2.1 in d:\\python 3.11\\lib\\site-packages (from weasel<0.5.0,>=0.1.0->spacy<3.9,>=3.8->ChatterBot==1.2.7) (7.1.0)\n",
      "Requirement already satisfied: MarkupSafe>=2.0 in d:\\python 3.11\\lib\\site-packages (from jinja2->spacy<3.9,>=3.8->ChatterBot==1.2.7) (3.0.2)\n",
      "Requirement already satisfied: marisa-trie>=1.1.0 in d:\\python 3.11\\lib\\site-packages (from language-data>=1.2->langcodes<4.0.0,>=3.2.0->spacy<3.9,>=3.8->ChatterBot==1.2.7) (1.2.1)\n",
      "Requirement already satisfied: markdown-it-py>=2.2.0 in d:\\python 3.11\\lib\\site-packages (from rich>=10.11.0->typer<1.0.0,>=0.3.0->spacy<3.9,>=3.8->ChatterBot==1.2.7) (3.0.0)\n",
      "Requirement already satisfied: pygments<3.0.0,>=2.13.0 in d:\\python 3.11\\lib\\site-packages (from rich>=10.11.0->typer<1.0.0,>=0.3.0->spacy<3.9,>=3.8->ChatterBot==1.2.7) (2.19.1)\n",
      "Requirement already satisfied: wrapt in d:\\python 3.11\\lib\\site-packages (from smart-open<8.0.0,>=5.2.1->weasel<0.5.0,>=0.1.0->spacy<3.9,>=3.8->ChatterBot==1.2.7) (1.17.2)\n",
      "Requirement already satisfied: mdurl~=0.1 in d:\\python 3.11\\lib\\site-packages (from markdown-it-py>=2.2.0->rich>=10.11.0->typer<1.0.0,>=0.3.0->spacy<3.9,>=3.8->ChatterBot==1.2.7) (0.1.2)\n",
      "Building wheels for collected packages: ChatterBot\n",
      "  Building editable for ChatterBot (pyproject.toml): started\n",
      "  Building editable for ChatterBot (pyproject.toml): finished with status 'done'\n",
      "  Created wheel for ChatterBot: filename=chatterbot-1.2.7-0.editable-py3-none-any.whl size=6275 sha256=7687d09903353a72947b1142ffbab0547d1420afe9cabb8e1dbf479749fe31fe\n",
      "  Stored in directory: C:\\Users\\Arushi\\AppData\\Local\\Temp\\pip-ephem-wheel-cache-yzvr0o9e\\wheels\\8f\\be\\ad\\d0f51630194869e749c3e4a40dbb20b085209be0ec5d324571\n",
      "Successfully built ChatterBot\n",
      "Installing collected packages: ChatterBot\n",
      "  Attempting uninstall: ChatterBot\n",
      "    Found existing installation: ChatterBot 1.2.7\n",
      "    Uninstalling ChatterBot-1.2.7:\n",
      "      Successfully uninstalled ChatterBot-1.2.7\n",
      "Successfully installed ChatterBot-1.2.7\n",
      "ChatterBot is working!\n"
     ]
    }
   ],
   "source": [
    "!git clone https://github.com/gunthercox/ChatterBot.git\n",
    "%cd ChatterBot\n",
    "!pip install -e .\n",
    "\n",
    "from chatterbot import ChatBot\n",
    "from chatterbot.trainers import ListTrainer\n",
    "\n",
    "print(\"ChatterBot is working!\")"
   ]
  },
  {
   "cell_type": "code",
   "execution_count": 2,
   "id": "40e37e4b-329b-4915-ba75-e3d5d399b8c5",
   "metadata": {},
   "outputs": [
    {
     "name": "stdout",
     "output_type": "stream",
     "text": [
      "Collecting en-core-web-sm==3.8.0\n",
      "  Downloading https://github.com/explosion/spacy-models/releases/download/en_core_web_sm-3.8.0/en_core_web_sm-3.8.0-py3-none-any.whl (12.8 MB)\n",
      "     ---------------------------------------- 0.0/12.8 MB ? eta -:--:--\n",
      "     - -------------------------------------- 0.5/12.8 MB 5.6 MB/s eta 0:00:03\n",
      "     ------- -------------------------------- 2.4/12.8 MB 7.9 MB/s eta 0:00:02\n",
      "     -------------- ------------------------- 4.7/12.8 MB 9.5 MB/s eta 0:00:01\n",
      "     ---------------------- ----------------- 7.3/12.8 MB 10.1 MB/s eta 0:00:01\n",
      "     ------------------------------ --------- 9.7/12.8 MB 10.4 MB/s eta 0:00:01\n",
      "     ----------------------------------- --- 11.8/12.8 MB 10.6 MB/s eta 0:00:01\n",
      "     ---------------------------------------- 12.8/12.8 MB 9.6 MB/s eta 0:00:00\n",
      "\u001b[38;5;2m[+] Download and installation successful\u001b[0m\n",
      "You can now load the package via spacy.load('en_core_web_sm')\n"
     ]
    }
   ],
   "source": [
    "!python -m spacy download en_core_web_sm"
   ]
  },
  {
   "cell_type": "code",
   "execution_count": 3,
   "id": "8bfaef3c-77a2-4b82-8a78-55447b761c58",
   "metadata": {},
   "outputs": [],
   "source": [
    "healthbot = ChatBot(\n",
    "    \"HealthBot\",\n",
    "    read_only=True,\n",
    "    logic_adapters=[\n",
    "        \"chatterbot.logic.BestMatch\",\n",
    "        \"chatterbot.logic.MathematicalEvaluation\"\n",
    "    ]\n",
    ")\n",
    "     "
   ]
  },
  {
   "cell_type": "code",
   "execution_count": 4,
   "id": "9b0dee0b-2d5a-4f22-9c0c-b9353ccca960",
   "metadata": {},
   "outputs": [],
   "source": [
    "trainer = ListTrainer(healthbot)\n",
    "conversations = [\n",
    "    'Hi',\n",
    "    'Hello! I am HealthBot. How can I assist you today?',\n",
    "    'Hello',\n",
    "    'Hi! Do you have a health-related question?',\n",
    "    'I have a headache',\n",
    "    'You should rest, stay hydrated, and take a mild pain reliever if needed.',\n",
    "    'What should I do if I have a fever?',\n",
    "    'Drink plenty of fluids and rest. If the fever persists, please consult a doctor.',\n",
    "    'I feel dizzy',\n",
    "    'Sit down, breathe deeply, and drink water. If it continues, seek medical help.',\n",
    "    'What should I eat for a cold?',\n",
    "    'Warm fluids, soups, citrus fruits, and light meals help during a cold.',\n",
    "    'How to stay healthy?',\n",
    "    'Eat balanced meals, exercise regularly, stay hydrated, and get enough sleep.',\n",
    "    'What should I do in case of a cut?',\n",
    "    'Clean the wound with water, apply antiseptic, and cover it with a clean bandage.',\n",
    "    'How much water should I drink daily?',\n",
    "    'Generally, 2 to 3 liters per day is recommended, but it varies based on your activity.',\n",
    "    'Thank you',\n",
    "    'You’re welcome! Take care.',\n",
    "    'Bye',\n",
    "    'Goodbye! Stay healthy.'\n",
    "]"
   ]
  },
  {
   "cell_type": "code",
   "execution_count": 5,
   "id": "e0c98f81-6afb-4ec7-924c-8aed3162b704",
   "metadata": {},
   "outputs": [
    {
     "name": "stderr",
     "output_type": "stream",
     "text": [
      "List Trainer: 22it [00:00, 409.69it/s]"
     ]
    },
    {
     "name": "stdout",
     "output_type": "stream",
     "text": [
      "HealthBot training complete.\n"
     ]
    },
    {
     "name": "stderr",
     "output_type": "stream",
     "text": [
      "\n"
     ]
    }
   ],
   "source": [
    "trainer.train(conversations)\n",
    "print(\"HealthBot training complete.\")\n"
   ]
  },
  {
   "cell_type": "code",
   "execution_count": 8,
   "id": "24083b49-9422-4cfa-a795-626040905a4f",
   "metadata": {},
   "outputs": [
    {
     "name": "stdout",
     "output_type": "stream",
     "text": [
      "Ask something to HealthBot (type 'exit' to end):\n",
      "\n"
     ]
    },
    {
     "name": "stdin",
     "output_type": "stream",
     "text": [
      "You:  Cough\n"
     ]
    },
    {
     "name": "stdout",
     "output_type": "stream",
     "text": [
      "HealthBot: What should I eat for a cold?\n"
     ]
    },
    {
     "name": "stdin",
     "output_type": "stream",
     "text": [
      "You:  cold\n"
     ]
    },
    {
     "name": "stdout",
     "output_type": "stream",
     "text": [
      "HealthBot: Warm fluids, soups, citrus fruits, and light meals help during a cold.\n"
     ]
    },
    {
     "name": "stdin",
     "output_type": "stream",
     "text": [
      "You:  Fever\n"
     ]
    },
    {
     "name": "stdout",
     "output_type": "stream",
     "text": [
      "HealthBot: Drink plenty of fluids and rest. If the fever persists, please consult a doctor.\n"
     ]
    },
    {
     "name": "stdin",
     "output_type": "stream",
     "text": [
      "You:  Cut\n"
     ]
    },
    {
     "name": "stdout",
     "output_type": "stream",
     "text": [
      "HealthBot: Clean the wound with water, apply antiseptic, and cover it with a clean bandage.\n"
     ]
    },
    {
     "name": "stdin",
     "output_type": "stream",
     "text": [
      "You:  Exit\n"
     ]
    },
    {
     "name": "stdout",
     "output_type": "stream",
     "text": [
      "HealthBot: Bye! Stay healthy.\n"
     ]
    }
   ],
   "source": [
    "print(\"Ask something to HealthBot (type 'exit' to end):\\n\")\n",
    "\n",
    "while True:\n",
    "    user_input = input(\"You: \")\n",
    "    if user_input.lower() == 'exit':\n",
    "        print(\"HealthBot: Bye! Stay healthy.\")\n",
    "        break\n",
    "    response = healthbot.get_response(user_input)\n",
    "    print(f\"HealthBot: {response}\")"
   ]
  },
  {
   "cell_type": "code",
   "execution_count": null,
   "id": "56c04a3f-e3ff-4458-bd2b-2e1bac5f74d5",
   "metadata": {},
   "outputs": [],
   "source": []
  }
 ],
 "metadata": {
  "kernelspec": {
   "display_name": "Python (myenv)",
   "language": "python",
   "name": "myenv"
  },
  "language_info": {
   "codemirror_mode": {
    "name": "ipython",
    "version": 3
   },
   "file_extension": ".py",
   "mimetype": "text/x-python",
   "name": "python",
   "nbconvert_exporter": "python",
   "pygments_lexer": "ipython3",
   "version": "3.11.9"
  }
 },
 "nbformat": 4,
 "nbformat_minor": 5
}
