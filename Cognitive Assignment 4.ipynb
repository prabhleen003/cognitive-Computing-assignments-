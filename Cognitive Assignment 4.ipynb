{
 "cells": [
  {
   "cell_type": "code",
   "execution_count": 15,
   "id": "2e7d1fac-4abe-4ad6-80b3-663bccb79b5b",
   "metadata": {},
   "outputs": [
    {
     "name": "stdout",
     "output_type": "stream",
     "text": [
      "Original Array: [1 2 3 4 5]\n"
     ]
    }
   ],
   "source": [
    "import numpy as np\n",
    "\n",
    "# Q1: Creating a 1D array and performing basic operations\n",
    "arr = np.array([1, 2, 3, 4, 5])\n",
    "print(\"Original Array:\", arr)"
   ]
  },
  {
   "cell_type": "code",
   "execution_count": 16,
   "id": "9de517a5-2623-419a-bd2d-b3546257d076",
   "metadata": {},
   "outputs": [
    {
     "name": "stdout",
     "output_type": "stream",
     "text": [
      "After adding 2: [3 4 5 6 7]\n"
     ]
    }
   ],
   "source": [
    "# a) Addition of 2 to all elements\n",
    "arr_add = arr + 2\n",
    "print(\"After adding 2:\", arr_add)"
   ]
  },
  {
   "cell_type": "code",
   "execution_count": 17,
   "id": "8fed8a59-1531-4b2f-a33a-c45420360f8c",
   "metadata": {},
   "outputs": [
    {
     "name": "stdout",
     "output_type": "stream",
     "text": [
      "After multiplying by 3: [ 3  6  9 12 15]\n"
     ]
    }
   ],
   "source": [
    "# b) Multiply all elements by 3\n",
    "arr_mul = arr * 3\n",
    "print(\"After multiplying by 3:\", arr_mul)"
   ]
  },
  {
   "cell_type": "code",
   "execution_count": 18,
   "id": "60e76883-84a1-48a7-a2a0-10cc7497c747",
   "metadata": {},
   "outputs": [
    {
     "name": "stdout",
     "output_type": "stream",
     "text": [
      "After dividing by 2: [0.5 1.  1.5 2.  2.5]\n"
     ]
    }
   ],
   "source": [
    "# c) Divide all elements by 2\n",
    "arr_div = arr / 2\n",
    "print(\"After dividing by 2:\", arr_div)"
   ]
  },
  {
   "cell_type": "code",
   "execution_count": 19,
   "id": "4e43fe6e-b926-4aa1-bc3c-b5ffd0c10e1b",
   "metadata": {},
   "outputs": [],
   "source": [
    "# Q2: Basic NumPy Array Operations\n",
    "arr = np.array([1, 2, 3, 6, 4, 5])"
   ]
  },
  {
   "cell_type": "code",
   "execution_count": 20,
   "id": "af5600f0-6cc4-4316-9883-56264e52332a",
   "metadata": {},
   "outputs": [
    {
     "name": "stdout",
     "output_type": "stream",
     "text": [
      "Reversed Array: [5 4 6 3 2 1]\n"
     ]
    }
   ],
   "source": [
    "# a) Reverse the array\n",
    "arr_reversed = arr[::-1]\n",
    "print(\"Reversed Array:\", arr_reversed)"
   ]
  },
  {
   "cell_type": "code",
   "execution_count": 21,
   "id": "e83ec023-b1b4-4dd0-8ddc-120437c59969",
   "metadata": {},
   "outputs": [
    {
     "name": "stdout",
     "output_type": "stream",
     "text": [
      "Most frequent value in x: 1, Indices: [0 5 7 8 9]\n",
      "Most frequent value in y: 1, Indices: [0 1 2]\n"
     ]
    }
   ],
   "source": [
    "# b) Most frequent value and their indices\n",
    "def most_frequent(arr):\n",
    "    vals, counts = np.unique(arr, return_counts=True)\n",
    "    max_count = np.max(counts)\n",
    "    most_freq_val = vals[counts == max_count][0]\n",
    "    indices = np.where(arr == most_freq_val)[0]\n",
    "    return most_freq_val, indices\n",
    "\n",
    "x = np.array([1,2,3,4,5,1,2,1,1,1])\n",
    "y = np.array([1, 1, 1, 2, 3, 4, 2, 4, 3, 3])\n",
    "\n",
    "x_most_freq, x_indices = most_frequent(x)\n",
    "y_most_freq, y_indices = most_frequent(y)\n",
    "\n",
    "print(f\"Most frequent value in x: {x_most_freq}, Indices: {x_indices}\")\n",
    "print(f\"Most frequent value in y: {y_most_freq}, Indices: {y_indices}\")"
   ]
  },
  {
   "cell_type": "code",
   "execution_count": 22,
   "id": "7e86df14-b4f8-4efd-a8fd-c5e0a9558836",
   "metadata": {},
   "outputs": [
    {
     "name": "stdout",
     "output_type": "stream",
     "text": [
      "Element at 1st row, 2nd column: 20\n",
      "Element at 3rd row, 1st column: 70\n"
     ]
    }
   ],
   "source": [
    "# Q3: Accessing elements from 2D array\n",
    "arr_2d = np.array([[10, 20, 30], [40, 50, 60], [70, 80, 90]])\n",
    "print(\"Element at 1st row, 2nd column:\", arr_2d[0, 1])\n",
    "print(\"Element at 3rd row, 1st column:\", arr_2d[2, 0])"
   ]
  },
  {
   "cell_type": "code",
   "execution_count": 9,
   "id": "40bfc5e3-081f-442f-8a12-97654bffb73f",
   "metadata": {},
   "outputs": [
    {
     "name": "stdout",
     "output_type": "stream",
     "text": [
      "Dimensions: 1\n",
      "Shape: (25,)\n",
      "Total Elements: 25\n",
      "Data Type: float64\n",
      "Total Bytes: 200\n"
     ]
    }
   ],
   "source": [
    "# Q4: Creating 1D array with linspace and reshaping\n",
    "my_array = np.linspace(10, 100, 25)\n",
    "print(\"Dimensions:\", my_array.ndim)\n",
    "print(\"Shape:\", my_array.shape)\n",
    "print(\"Total Elements:\", my_array.size)\n",
    "print(\"Data Type:\", my_array.dtype)\n",
    "print(\"Total Bytes:\", my_array.nbytes)\n"
   ]
  },
  {
   "cell_type": "code",
   "execution_count": 10,
   "id": "23cb682f-827b-42e8-bd70-6d1fe2a53c13",
   "metadata": {},
   "outputs": [
    {
     "name": "stdout",
     "output_type": "stream",
     "text": [
      "Transposed using reshape: [[ 10.  ]\n",
      " [ 13.75]\n",
      " [ 17.5 ]\n",
      " [ 21.25]\n",
      " [ 25.  ]\n",
      " [ 28.75]\n",
      " [ 32.5 ]\n",
      " [ 36.25]\n",
      " [ 40.  ]\n",
      " [ 43.75]\n",
      " [ 47.5 ]\n",
      " [ 51.25]\n",
      " [ 55.  ]\n",
      " [ 58.75]\n",
      " [ 62.5 ]\n",
      " [ 66.25]\n",
      " [ 70.  ]\n",
      " [ 73.75]\n",
      " [ 77.5 ]\n",
      " [ 81.25]\n",
      " [ 85.  ]\n",
      " [ 88.75]\n",
      " [ 92.5 ]\n",
      " [ 96.25]\n",
      " [100.  ]]\n"
     ]
    }
   ],
   "source": [
    "# Transposing using reshape\n",
    "my_array_transpose = my_array.reshape(25, 1)\n",
    "print(\"Transposed using reshape:\", my_array_transpose)"
   ]
  },
  {
   "cell_type": "code",
   "execution_count": 11,
   "id": "c2f2fd10-54eb-43ee-8423-de87a945c731",
   "metadata": {},
   "outputs": [
    {
     "name": "stdout",
     "output_type": "stream",
     "text": [
      "Transposed using T attribute: [ 10.    13.75  17.5   21.25  25.    28.75  32.5   36.25  40.    43.75\n",
      "  47.5   51.25  55.    58.75  62.5   66.25  70.    73.75  77.5   81.25\n",
      "  85.    88.75  92.5   96.25 100.  ]\n"
     ]
    }
   ],
   "source": [
    "# Checking T attribute\n",
    "print(\"Transposed using T attribute:\", my_array.T)  # For 1D arrays, T has no effect\n"
   ]
  },
  {
   "cell_type": "code",
   "execution_count": 12,
   "id": "acc6e75b-241e-4140-829f-a3943bb75c1f",
   "metadata": {},
   "outputs": [
    {
     "name": "stdout",
     "output_type": "stream",
     "text": [
      "Mean: 43.333333333333336\n",
      "Median: 37.5\n",
      "Max: 90\n",
      "Min: 10\n",
      "Unique Elements: [10 15 20 30 35 40 50 60 70 80 90]\n"
     ]
    }
   ],
   "source": [
    "# Q5: Creating a 2D array and performing operations\n",
    "ucs420_name = np.array([[10, 20, 30, 40], [50, 60, 70, 80], [90, 15, 20, 35]])\n",
    "print(\"Mean:\", np.mean(ucs420_name))\n",
    "print(\"Median:\", np.median(ucs420_name))\n",
    "print(\"Max:\", np.max(ucs420_name))\n",
    "print(\"Min:\", np.min(ucs420_name))\n",
    "print(\"Unique Elements:\", np.unique(ucs420_name))\n"
   ]
  },
  {
   "cell_type": "code",
   "execution_count": 13,
   "id": "71133029-5784-4409-aca7-acd03d769009",
   "metadata": {},
   "outputs": [
    {
     "name": "stdout",
     "output_type": "stream",
     "text": [
      "Reshaped to 4x3:\n",
      " [[10 20 30]\n",
      " [40 50 60]\n",
      " [70 80 90]\n",
      " [15 20 35]]\n"
     ]
    }
   ],
   "source": [
    "# Reshaping to 4x3\n",
    "reshaped_ucs420_name = ucs420_name.reshape(4, 3)\n",
    "print(\"Reshaped to 4x3:\\n\", reshaped_ucs420_name)\n"
   ]
  },
  {
   "cell_type": "code",
   "execution_count": 14,
   "id": "ff3c0439-40f3-4dbe-bffa-2f916ac90bcb",
   "metadata": {},
   "outputs": [
    {
     "name": "stdout",
     "output_type": "stream",
     "text": [
      "Resized to 2x3:\n",
      " [[10 20 30]\n",
      " [40 50 60]]\n"
     ]
    }
   ],
   "source": [
    "# Resizing to 2x3\n",
    "resized_ucs420_name = np.resize(ucs420_name, (2, 3))\n",
    "print(\"Resized to 2x3:\\n\", resized_ucs420_name)"
   ]
  },
  {
   "cell_type": "code",
   "execution_count": null,
   "id": "eb6c4ff7-3b76-42e6-81c5-2878cb0fb0a3",
   "metadata": {},
   "outputs": [],
   "source": []
  }
 ],
 "metadata": {
  "kernelspec": {
   "display_name": "Python 3 (ipykernel)",
   "language": "python",
   "name": "python3"
  },
  "language_info": {
   "codemirror_mode": {
    "name": "ipython",
    "version": 3
   },
   "file_extension": ".py",
   "mimetype": "text/x-python",
   "name": "python",
   "nbconvert_exporter": "python",
   "pygments_lexer": "ipython3",
   "version": "3.11.3"
  }
 },
 "nbformat": 4,
 "nbformat_minor": 5
}
