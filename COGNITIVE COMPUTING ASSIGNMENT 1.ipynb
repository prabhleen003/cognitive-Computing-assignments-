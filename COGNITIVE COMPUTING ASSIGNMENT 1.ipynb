{
 "cells": [
  {
   "cell_type": "code",
   "execution_count": 1,
   "id": "c749a9d3-bbe1-4395-a72d-ab851731ba11",
   "metadata": {},
   "outputs": [
    {
     "name": "stdout",
     "output_type": "stream",
     "text": [
      "Coding is fun!\n"
     ]
    }
   ],
   "source": [
    "# Write a Python program to print \"Anything You find cool.\"\n",
    "print(\"Coding is fun!\")\n"
   ]
  },
  {
   "cell_type": "code",
   "execution_count": 2,
   "id": "8e357cfe-54c8-4154-9a64-206aad22ebef",
   "metadata": {},
   "outputs": [
    {
     "name": "stdout",
     "output_type": "stream",
     "text": [
      "The sum is: 40\n"
     ]
    }
   ],
   "source": [
    "# 2.1 Write a program to add two numbers and print the result.\n",
    "a = 15\n",
    "b = 25\n",
    "c = a + b\n",
    "print(\"The sum is:\", c)\n"
   ]
  },
  {
   "cell_type": "code",
   "execution_count": 3,
   "id": "fefe6d32-1475-4e63-938f-70b409ccdf06",
   "metadata": {},
   "outputs": [
    {
     "name": "stdout",
     "output_type": "stream",
     "text": [
      "Good Morning\n"
     ]
    }
   ],
   "source": [
    "# 2.2 Write a program to concatenate two strings and print the result.\n",
    "a = \"Good\"\n",
    "b = \"Morning\"\n",
    "c = a + \" \" + b\n",
    "print(c)\n"
   ]
  },
  {
   "cell_type": "code",
   "execution_count": 4,
   "id": "8e18b83f-d8b8-4300-bc34-e90607b76013",
   "metadata": {},
   "outputs": [
    {
     "name": "stdout",
     "output_type": "stream",
     "text": [
      "The temp is 28 deg Celsius\n"
     ]
    }
   ],
   "source": [
    "# 2.3 Write a program to concatenate a string and a number and print the result.\n",
    "a = \"The temp is \"\n",
    "b = 28\n",
    "c = a + str(b) + \" deg Celsius\"\n",
    "print(c)\n"
   ]
  },
  {
   "cell_type": "code",
   "execution_count": 5,
   "id": "b7fb8977-e975-41a9-b1ca-622cc52fcbf6",
   "metadata": {},
   "outputs": [
    {
     "name": "stdin",
     "output_type": "stream",
     "text": [
      "Enter a number 23\n"
     ]
    },
    {
     "name": "stdout",
     "output_type": "stream",
     "text": [
      "It's a positive number\n"
     ]
    }
   ],
   "source": [
    "# 3.1 Write a Python program to check if a number is positive, negative, or zero using an if-else statement.\n",
    "a = int(input(\"Enter a number\"))\n",
    "if a > 0:\n",
    "    print(\"It's a positive number\")\n",
    "elif a < 0:\n",
    "    print(\"It's a negative number\")\n",
    "else:\n",
    "    print(\"It's zero\")\n"
   ]
  },
  {
   "cell_type": "code",
   "execution_count": 6,
   "id": "adf3925d-f026-4821-805c-d85d9dd71727",
   "metadata": {},
   "outputs": [
    {
     "name": "stdin",
     "output_type": "stream",
     "text": [
      "Enter a number:  27\n"
     ]
    },
    {
     "name": "stdout",
     "output_type": "stream",
     "text": [
      "odd\n"
     ]
    }
   ],
   "source": [
    "# 3.2 Write a program to check if a given number is odd or even.\n",
    "a = int(input(\"Enter a number: \"))\n",
    "if a % 2 != 0:\n",
    "    print(\"odd\")\n",
    "else:\n",
    "    print(\"even\")\n"
   ]
  },
  {
   "cell_type": "code",
   "execution_count": 7,
   "id": "1fd14a20-18b8-46a6-bd80-c110146e178a",
   "metadata": {},
   "outputs": [
    {
     "name": "stdout",
     "output_type": "stream",
     "text": [
      "1\n",
      "2\n",
      "3\n",
      "4\n",
      "5\n",
      "6\n",
      "7\n",
      "8\n",
      "9\n",
      "10\n"
     ]
    }
   ],
   "source": [
    "# 4.1 Write a program to print numbers from 1 to 10 using a for loop.\n",
    "for a in range(1, 11):\n",
    "    print(a)"
   ]
  },
  {
   "cell_type": "code",
   "execution_count": 8,
   "id": "146edd0e-c7b8-4ca2-a318-2eb742f9c8ba",
   "metadata": {},
   "outputs": [
    {
     "name": "stdout",
     "output_type": "stream",
     "text": [
      "1\n",
      "2\n",
      "3\n",
      "4\n",
      "5\n",
      "6\n",
      "7\n",
      "8\n",
      "9\n",
      "10\n"
     ]
    }
   ],
   "source": [
    "# 4.2 Write a program to print numbers from 1 to 10 using a while loop.\n",
    "a = 1\n",
    "while a <= 10:\n",
    "    print(a)\n",
    "    a =a+1"
   ]
  },
  {
   "cell_type": "code",
   "execution_count": 9,
   "id": "f57e0f30-7f44-4e73-8194-f2f59d8986f6",
   "metadata": {},
   "outputs": [
    {
     "name": "stdout",
     "output_type": "stream",
     "text": [
      "Total sum: 5050\n"
     ]
    }
   ],
   "source": [
    "# 4.3 Write a program to calculate the sum of numbers from 1 to 100 using a loop.\n",
    "a = 0\n",
    "for b in range(1, 101):\n",
    "    a =a+ b\n",
    "print(\"Total sum:\", a)"
   ]
  },
  {
   "cell_type": "code",
   "execution_count": 10,
   "id": "d8d76a19-b5ce-4018-bd1d-0af05db05dfa",
   "metadata": {},
   "outputs": [
    {
     "name": "stdout",
     "output_type": "stream",
     "text": [
      "The largest number  99\n",
      "The smallest number  5\n"
     ]
    }
   ],
   "source": [
    "# 5.1 Create a list of 5 numbers. Write a program to find the largest and smallest numbers in the list.\n",
    "a = [14, 32, 5, 78, 99]\n",
    "print(\"The largest number \", max(a))\n",
    "print(\"The smallest number \", min(a))\n"
   ]
  },
  {
   "cell_type": "code",
   "execution_count": 12,
   "id": "400c642e-6fdf-43cc-bcf3-bba0cce3b495",
   "metadata": {},
   "outputs": [
    {
     "name": "stdout",
     "output_type": "stream",
     "text": [
      "Tesla\n",
      "red\n"
     ]
    }
   ],
   "source": [
    "# 5.2 Create a dictionary with at least 3 key-value pairs. Write a program to retrieve the value of a given key.\n",
    "a = {\"car\": \"Tesla\", \"color\": \"red\", \"year\": 2022}\n",
    "b = \"car\"\n",
    "print(a[b])\n",
    "print(a.get(\"color\"))"
   ]
  },
  {
   "cell_type": "code",
   "execution_count": 13,
   "id": "54ef7100-b4f9-4897-95e2-a967a59a3138",
   "metadata": {},
   "outputs": [
    {
     "name": "stdout",
     "output_type": "stream",
     "text": [
      "ascending order: [4, 7, 8, 12, 19]\n",
      "descending order: [19, 12, 8, 7, 4]\n"
     ]
    }
   ],
   "source": [
    "# 5.3 Write a program to sort a list of numbers in ascending and descending order.\n",
    "a = [12, 7, 19, 4, 8]\n",
    "print(\"ascending order:\", sorted(a))\n",
    "print(\"descending order:\", sorted(a, reverse=True))"
   ]
  },
  {
   "cell_type": "code",
   "execution_count": 14,
   "id": "4611d8cb-b758-4499-beee-5d32916e36dc",
   "metadata": {},
   "outputs": [
    {
     "name": "stdout",
     "output_type": "stream",
     "text": [
      "Merged Dictionary: {'name': 'prabhleen', 'age': 19, 'city': 'patiala', 'job': 'Engineer'}\n"
     ]
    }
   ],
   "source": [
    "# 5.4 Write a program to merge two dictionaries into one.\n",
    "a = {\"name\": \"prabhleen\", \"age\": 19}\n",
    "b = {\"city\": \"patiala\", \"job\": \"Engineer\"}\n",
    "a.update(b)\n",
    "print(\"Merged Dictionary:\", a)"
   ]
  },
  {
   "cell_type": "code",
   "execution_count": 18,
   "id": "cab52b42-926e-48c0-80a6-58f7ec1a7d95",
   "metadata": {},
   "outputs": [
    {
     "name": "stdout",
     "output_type": "stream",
     "text": [
      "6\n"
     ]
    }
   ],
   "source": [
    "# 6.1 Write a program to count the number of vowels in a given string.\n",
    "a = \"programming is good\"\n",
    "c = 0\n",
    "for d in a:\n",
    "    if d in \"aeiou\":\n",
    "        c += 1\n",
    "print(c);\n"
   ]
  },
  {
   "cell_type": "code",
   "execution_count": 19,
   "id": "4152c761-8e77-4fbd-b405-55f67c83a205",
   "metadata": {},
   "outputs": [
    {
     "name": "stdout",
     "output_type": "stream",
     "text": [
      "Reversed String: lihkin\n"
     ]
    }
   ],
   "source": [
    "# 6.2 Write a program to reverse a string and print it.\n",
    "a = \"nikhil\"\n",
    "b = a[::-1]\n",
    "print(\"Reversed String:\", b)\n"
   ]
  },
  {
   "cell_type": "code",
   "execution_count": 20,
   "id": "d9c750ef-d98b-44a6-b416-e1f176ec564e",
   "metadata": {},
   "outputs": [
    {
     "name": "stdout",
     "output_type": "stream",
     "text": [
      "yes\n"
     ]
    }
   ],
   "source": [
    "# 6.3 Write a program to check if a string is a palindrome.\n",
    "a = \"racecar\"\n",
    "if a == a[::-1]:\n",
    "    print(\"yes\")\n",
    "else:\n",
    "    print(\"no\")"
   ]
  },
  {
   "cell_type": "code",
   "execution_count": 21,
   "id": "4874bb24-a8c3-42d7-9ebd-1d20f54c3376",
   "metadata": {},
   "outputs": [
    {
     "name": "stdout",
     "output_type": "stream",
     "text": [
      "File Content: This is a sample text file.\n"
     ]
    }
   ],
   "source": [
    "# 7.1 Write a program to create a text file, write some text into it, and then read and print the content.\n",
    "with open(\"sample.txt\", \"w\") as a:\n",
    "    a.write(\"This is a sample text file.\")\n",
    "with open(\"sample.txt\", \"r\") as a:\n",
    "    b = a.read()\n",
    "    print(\"File Content:\", b)"
   ]
  },
  {
   "cell_type": "code",
   "execution_count": 22,
   "id": "ca71b42b-83bb-4b86-bf63-a1f761e3ac3f",
   "metadata": {},
   "outputs": [
    {
     "name": "stdout",
     "output_type": "stream",
     "text": [
      "This is a sample text file.\n",
      "appended text\n"
     ]
    }
   ],
   "source": [
    "# 7.2 Write a program to append text to an existing file and print the updated content.\n",
    "with open(\"sample.txt\", \"a\") as a:\n",
    "    a.write(\"\\nappended text\")\n",
    "with open(\"sample.txt\", \"r\") as a:\n",
    "    print(a.read())"
   ]
  },
  {
   "cell_type": "code",
   "execution_count": 23,
   "id": "f1dce756-c175-429b-bd1f-bf5bd4a52320",
   "metadata": {},
   "outputs": [
    {
     "name": "stdout",
     "output_type": "stream",
     "text": [
      "No. of lines: 2\n"
     ]
    }
   ],
   "source": [
    "# 7.3 Write a program to count the number of lines in a text file.\n",
    "with open(\"sample.txt\", \"r\") as a:\n",
    "    b = a.readlines()\n",
    "    print(\"No. of lines:\", len(b))"
   ]
  },
  {
   "cell_type": "code",
   "execution_count": 26,
   "id": "8c9c5874-3e46-46e0-8229-34c075593e11",
   "metadata": {},
   "outputs": [
    {
     "name": "stdout",
     "output_type": "stream",
     "text": [
      " cannot divide by zero!\n"
     ]
    }
   ],
   "source": [
    "# 8.1 Write a program to handle division by zero using a try-except block.\n",
    "try:\n",
    "    a = 15 / 0\n",
    "except ZeroDivisionError:\n",
    "    print(\" cannot divide by zero!\")"
   ]
  },
  {
   "cell_type": "code",
   "execution_count": 27,
   "id": "35d9965c-4b5c-4d87-83eb-98e9c3540d69",
   "metadata": {},
   "outputs": [
    {
     "name": "stdin",
     "output_type": "stream",
     "text": [
      "enter integer a\n"
     ]
    },
    {
     "name": "stdout",
     "output_type": "stream",
     "text": [
      " not a valid number.\n"
     ]
    }
   ],
   "source": [
    "# 8.2 Write a program to handle invalid input (e.g., when the user enters a string instead of a number)\n",
    "try:\n",
    "    a = int(input(\"enter integer\"))\n",
    "except ValueError:\n",
    "    print(\" not a valid number.\")"
   ]
  },
  {
   "cell_type": "code",
   "execution_count": 28,
   "id": "0d41e56b-4a3f-4dd0-b5ce-59bb169df317",
   "metadata": {},
   "outputs": [
    {
     "name": "stdout",
     "output_type": "stream",
     "text": [
      "try block\n",
      "This block will always run.\n"
     ]
    }
   ],
   "source": [
    "# 8.3 Write a program to demonstrate the use of finally in exception handling.\n",
    "try:\n",
    "    print(\"try block\")\n",
    "except Exception as a:\n",
    "    print(\"exception occured\")\n",
    "finally:\n",
    "    print(\"This block will always run.\")\n"
   ]
  },
  {
   "cell_type": "code",
   "execution_count": 30,
   "id": "48b3b282-4deb-41cd-bc32-81bab5c60381",
   "metadata": {},
   "outputs": [
    {
     "name": "stdout",
     "output_type": "stream",
     "text": [
      "28\n",
      "64\n",
      "85\n",
      "3\n",
      "88\n"
     ]
    }
   ],
   "source": [
    "#9.1 Write a program to generate 5 random numbers between 1 and 100 and print them.\n",
    "import random\n",
    "for a in range(5):\n",
    "    print(random.randint(1, 100))"
   ]
  },
  {
   "cell_type": "code",
   "execution_count": 31,
   "id": "ec2a0526-15c0-4255-8995-8fa0081c2924",
   "metadata": {},
   "outputs": [
    {
     "name": "stdout",
     "output_type": "stream",
     "text": [
      "We picked a random number: 23. Is it prime? Yes\n"
     ]
    }
   ],
   "source": [
    "# 9.2 Write a program to generate a random number and check if it is prime.\n",
    "import random\n",
    "random_number = random.randint(1, 100)\n",
    "is_prime = all(random_number % divisor != 0 for divisor in range(2, int(random_number ** 0.5) + 1))\n",
    "print(f\"We picked a random number: {random_number}. Is it prime? {'Yes' if is_prime else 'No'}\")\n"
   ]
  },
  {
   "cell_type": "code",
   "execution_count": 32,
   "id": "f91a758c-7497-4e20-a2fa-eb2c70bf6dcc",
   "metadata": {},
   "outputs": [
    {
     "data": {
      "text/plain": [
       "3"
      ]
     },
     "execution_count": 32,
     "metadata": {},
     "output_type": "execute_result"
    }
   ],
   "source": [
    "# 9.3 Write a program to simulate rolling a six-sided die.\n",
    "a = random.randint(1, 6)\n",
    "a"
   ]
  },
  {
   "cell_type": "code",
   "execution_count": 33,
   "id": "dad9aaf0-2966-48ee-995b-0f1926b4b548",
   "metadata": {},
   "outputs": [
    {
     "name": "stdout",
     "output_type": "stream",
     "text": [
      "Shuffled List: [6, 4, 3, 9, 1]\n"
     ]
    }
   ],
   "source": [
    "# 9.4 Write a program to shuffle a list of numbers\n",
    "a = [3, 1, 4, 6, 9]\n",
    "random.shuffle(a)\n",
    "print(\"Shuffled List:\", a)"
   ]
  },
  {
   "cell_type": "code",
   "execution_count": 34,
   "id": "38a829bb-ca1f-469d-aa50-3c32255a88b3",
   "metadata": {},
   "outputs": [
    {
     "name": "stdout",
     "output_type": "stream",
     "text": [
      "grape\n"
     ]
    }
   ],
   "source": [
    "# 9.5 Write a program to randomly select an item from a list\n",
    "a = [\"apple\", \"banana\", \"grape\"]\n",
    "b = random.choice(a)\n",
    "print(b)"
   ]
  },
  {
   "cell_type": "code",
   "execution_count": 35,
   "id": "5c0e8d99-8f32-45a2-97fe-bed5f99007f0",
   "metadata": {},
   "outputs": [
    {
     "name": "stdout",
     "output_type": "stream",
     "text": [
      "L1u2dAliX8\n"
     ]
    }
   ],
   "source": [
    "# 9.6 Write a program to generate a random password of given length.\n",
    "import string\n",
    "import random\n",
    "\n",
    "a = 10\n",
    "b = ''.join(random.choices(string.ascii_letters + string.digits, k=a))\n",
    "print(b)"
   ]
  },
  {
   "cell_type": "code",
   "execution_count": 39,
   "id": "e060cf64-01eb-4574-8286-5d7d537d1fe5",
   "metadata": {},
   "outputs": [
    {
     "name": "stdout",
     "output_type": "stream",
     "text": [
      "A of Hearts\n"
     ]
    }
   ],
   "source": [
    "# 9.7 Write a program to pick a random card from a standard deck of 52 cards.\n",
    "import random\n",
    "suits = ['Hearts', 'Diamonds', 'Clubs', 'Spades']\n",
    "values = ['2', '3', '4', '5', '6', '7', '8', '9', '10', 'J', 'Q', 'K', 'A']\n",
    "print(f\"{random.choice(values)} of {random.choice(suits)}\")\n"
   ]
  },
  {
   "cell_type": "code",
   "execution_count": 44,
   "id": "da844c5f-0284-4ef5-8011-a3daad88ca60",
   "metadata": {},
   "outputs": [
    {
     "name": "stdout",
     "output_type": "stream",
     "text": [
      "provide valid numbers.\n"
     ]
    }
   ],
   "source": [
    "# 10.1 Write a program to accept two numbers as command-line arguments, add them, and print the result.\n",
    "import sys\n",
    "if len(sys.argv) != 3:\n",
    "    print(\"two numbers.\")\n",
    "else:\n",
    "    try:\n",
    "        a = int(sys.argv[1])\n",
    "        b = int(sys.argv[2]) \n",
    "        print(f\"The sum of {a} and {b} is: {a + b}\")\n",
    "    except ValueError:\n",
    "        print(\"provide valid numbers.\")\n"
   ]
  },
  {
   "cell_type": "code",
   "execution_count": 45,
   "id": "88fe59e7-d9da-4bbd-9c84-c8efc30bd372",
   "metadata": {},
   "outputs": [
    {
     "name": "stdout",
     "output_type": "stream",
     "text": [
      "provide exactly one string as an argument.\n"
     ]
    }
   ],
   "source": [
    "# 10.2 Write a program to accept a string as a command-line argument and print its length.\n",
    "import sys\n",
    "if len(sys.argv) != 2:\n",
    "    print(\"provide exactly one string as an argument.\")\n",
    "else:\n",
    "    a = sys.argv[1]\n",
    "    print(f\"The length of the string '{a}' is: {len(a)}\")\n",
    "\n"
   ]
  },
  {
   "cell_type": "code",
   "execution_count": 46,
   "id": "d99828b9-5d94-4207-a2b0-d15ff2122a28",
   "metadata": {},
   "outputs": [
    {
     "name": "stdout",
     "output_type": "stream",
     "text": [
      "5.0\n"
     ]
    }
   ],
   "source": [
    "# 11.1 Write a program to use the math library to calculate the square root of a given number\n",
    "import math\n",
    "a = 25\n",
    "print(math.sqrt(a))\n"
   ]
  },
  {
   "cell_type": "code",
   "execution_count": 47,
   "id": "53e2e1f7-7607-4229-abf1-a20aea38536a",
   "metadata": {},
   "outputs": [
    {
     "name": "stdout",
     "output_type": "stream",
     "text": [
      "Current date and time: 2025-01-12 23:16:29.717678\n"
     ]
    }
   ],
   "source": [
    "# 11.2 Write a program to use the datetime library to print the current date and time.\n",
    "import datetime\n",
    "a = datetime.datetime.now()\n",
    "print(\"Current date and time:\", a)"
   ]
  },
  {
   "cell_type": "code",
   "execution_count": 48,
   "id": "0a1de6a8-cfd0-4827-88d8-b45bb2d03933",
   "metadata": {},
   "outputs": [
    {
     "name": "stdout",
     "output_type": "stream",
     "text": [
      "Files in the current directory: ['.affinity', '.android', '.arduinoIDE', '.cache', '.dbus-keyrings', '.emulator_console_auth_token', '.gitconfig', '.gradle', '.idlerc', '.ipynb_checkpoints', '.ipython', '.jupyter', '.matplotlib', '.node_repl_history', '.redhat', '.streamlit', '.thumbnails', '.virtualenvs', '.vscode', 'AppData', 'Application Data', 'CarpricePrediction.ipynb', 'ClusterSegmentation.ipynb', 'Contacts', 'Cookies', 'Desktop', 'DiabetesPrediction.ipynb', 'Documents', 'Downloads', 'Fake news Classification.ipynb', 'Favorites', 'friends2', 'hello.c', 'housePricePrediction.ipynb', 'html', 'ImageSegmentation.ipynb', 'Insurance cost prediction.ipynb', 'LearningPython.ipynb', 'LEARNING_TRAIN_TEST_SPLIT.ipynb', 'Links', 'Local Settings', 'MATPLOTLIB.ipynb', 'model1.pkl', 'MovieRecommendation.ipynb', 'Music', 'My Documents', 'NetHood', 'new folder', 'new.csv', 'NTUSER.DAT', 'ntuser.dat.LOG1', 'ntuser.dat.LOG2', 'NTUSER.DAT{28c383d8-3d5c-11ee-a955-f854f622ae8e}.TM.blf', 'NTUSER.DAT{28c383d8-3d5c-11ee-a955-f854f622ae8e}.TMContainer00000000000000000001.regtrans-ms', 'NTUSER.DAT{28c383d8-3d5c-11ee-a955-f854f622ae8e}.TMContainer00000000000000000002.regtrans-ms', 'ntuser.ini', 'NUMPY.ipynb', 'OneDrive', 'PANDAS.ipynb', 'Pictures', 'PrintHood', 'Recent', 'relay.dll', 'rockvsmine.ipynb', 'sample.txt', 'Saved Games', 'Searches', 'segmented_image.png', 'SendTo', 'Setup.exe', 'SMSSpamDectection.ipynb', 'Start Menu', 'STATSandPROBABILITY.ipynb', 'streamlit', 'temp.js', 'Templates', 'UIxMarketPlugin.dll', 'Untitled.ipynb', 'Vectors in ML.ipynb', 'Videos', 'WineQualityPrediction.ipynb', 'WPS Cloud Files']\n"
     ]
    }
   ],
   "source": [
    "# 11.3 Write a program to use the os library to list all files in the current directory.import os\n",
    "a = os.listdir(\".\")\n",
    "print(\"Files in the current directory:\", a)"
   ]
  },
  {
   "cell_type": "code",
   "execution_count": null,
   "id": "33c49300-7f6f-426d-9074-7365bd7555e2",
   "metadata": {},
   "outputs": [],
   "source": []
  }
 ],
 "metadata": {
  "kernelspec": {
   "display_name": "Python 3 (ipykernel)",
   "language": "python",
   "name": "python3"
  },
  "language_info": {
   "codemirror_mode": {
    "name": "ipython",
    "version": 3
   },
   "file_extension": ".py",
   "mimetype": "text/x-python",
   "name": "python",
   "nbconvert_exporter": "python",
   "pygments_lexer": "ipython3",
   "version": "3.11.3"
  }
 },
 "nbformat": 4,
 "nbformat_minor": 5
}
