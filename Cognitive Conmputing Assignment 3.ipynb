{
 "cells": [
  {
   "cell_type": "code",
   "execution_count": 24,
   "id": "005becdc-0313-4c96-80d3-1e324d14a3f1",
   "metadata": {},
   "outputs": [
    {
     "name": "stdout",
     "output_type": "stream",
     "text": [
      "   Tid Refund Marital Status Taxable Income Cheat\n",
      "0    1    Yes              s           125K    No\n",
      "1    2     No              m           100K    No\n",
      "2    3     No              s            70K    No\n",
      "3    4    Yes              m           120K    No\n",
      "4    5     No              d            95K   Yes\n",
      "5    6     No              m            60K    No\n",
      "6    7    Yes              d           220K   Yes\n",
      "7    8     No              s            85K   Yes\n",
      "8    9     No              m            75K    No\n",
      "9   10     No              s            90K   Yes\n"
     ]
    }
   ],
   "source": [
    "#Q.1 Create a dataset as follow in the table\n",
    "import pandas as pd\n",
    "\n",
    "a = [1, 2, 3, 4, 5, 6, 7, 8, 9, 10]\n",
    "b = ['Yes', 'No', 'No', 'Yes', 'No', 'No', 'Yes', 'No', 'No', 'No']\n",
    "c = ['s', 'm', 's', 'm', 'd', 'm', 'd', 's', 'm', 's']\n",
    "d = ['125K', '100K', '70K', '120K', '95K', '60K', '220K', '85K', '75K', '90K']\n",
    "e = ['No', 'No', 'No', 'No', 'Yes', 'No', 'Yes', 'Yes', 'No', 'Yes']\n",
    "\n",
    "df = pd.DataFrame({'Tid': a, 'Refund': b, 'Marital Status': c, 'Taxable Income': d, 'Cheat': e})\n",
    "\n",
    "print(df)\n"
   ]
  },
  {
   "cell_type": "code",
   "execution_count": 25,
   "id": "a2d32854-123c-4627-9159-76d69da379f1",
   "metadata": {},
   "outputs": [
    {
     "name": "stdout",
     "output_type": "stream",
     "text": [
      "   Tid Refund Marital Status Taxable Income Cheat\n",
      "0    1    Yes              s           125K    No\n",
      "4    5     No              d            95K   Yes\n",
      "7    8     No              s            85K   Yes\n",
      "8    9     No              m            75K    No\n"
     ]
    }
   ],
   "source": [
    "#Q.2 From the above table that you have created, locate row 0, 4, 7 and 8 using DataFrame.\n",
    "rows = df.loc[[0, 4, 7, 8]]\n",
    "print(rows)\n"
   ]
  },
  {
   "cell_type": "code",
   "execution_count": 3,
   "id": "f1d8d187-c601-4eb8-b653-6bc2976ece09",
   "metadata": {},
   "outputs": [
    {
     "name": "stdout",
     "output_type": "stream",
     "text": [
      "   Tid Refund Marital Status Taxable Income Cheat\n",
      "3    4    Yes              m           120K    No\n",
      "4    5     No              d            95K   Yes\n",
      "5    6     No              m            60K    No\n",
      "6    7    Yes              d           220K   Yes\n",
      "7    8     No              s            85K   Yes\n",
      "  Marital Status Taxable Income Cheat\n",
      "4              d            95K   Yes\n",
      "5              m            60K    No\n",
      "6              d           220K   Yes\n",
      "7              s            85K   Yes\n",
      "8              m            75K    No\n",
      "  Refund Marital Status Taxable Income\n",
      "0    Yes              s           125K\n",
      "1     No              m           100K\n",
      "2     No              s            70K\n",
      "3    Yes              m           120K\n",
      "4     No              d            95K\n",
      "5     No              m            60K\n",
      "6    Yes              d           220K\n",
      "7     No              s            85K\n",
      "8     No              m            75K\n",
      "9     No              s            90K\n"
     ]
    }
   ],
   "source": [
    "# Q.3 Navigate the DataFrame and do the following task for the table created in question 1: \n",
    "# 1. Select row from index 3 to 7. \n",
    "# 2. Select row from index 4 to 8, and column 2 to 4. \n",
    "# 3. Select all rows with column index 1 to 3 (include index 3 during selection).\n",
    "x = df.loc[3:7]\n",
    "print(x)\n",
    "\n",
    "y = df.iloc[4:9, 2:5]\n",
    "print(y)\n",
    "\n",
    "z = df.iloc[:, 1:4]\n",
    "print(z)\n"
   ]
  },
  {
   "cell_type": "code",
   "execution_count": 4,
   "id": "61126f05-df02-443d-a604-6921a9849b33",
   "metadata": {},
   "outputs": [
    {
     "name": "stdout",
     "output_type": "stream",
     "text": [
      "   Id  SepalLengthCm  SepalWidthCm  PetalLengthCm  PetalWidthCm      Species\n",
      "0   1            5.1           3.5            1.4           0.2  Iris-setosa\n",
      "1   2            4.9           3.0            1.4           0.2  Iris-setosa\n",
      "2   3            4.7           3.2            1.3           0.2  Iris-setosa\n",
      "3   4            4.6           3.1            1.5           0.2  Iris-setosa\n",
      "4   5            5.0           3.6            1.4           0.2  Iris-setosa\n"
     ]
    }
   ],
   "source": [
    "# Q.4 Read a csv file and display its first five rows. \n",
    "# Note-: Download dataset from https://www.kaggle.com/datasets/uciml/iris)\n",
    "import pandas as pd\n",
    "\n",
    "df = pd.read_csv(r\"C:\\Users\\prabh\\Downloads\\Iris.csv\")\n",
    "print(df.head())\n"
   ]
  },
  {
   "cell_type": "code",
   "execution_count": 5,
   "id": "c9129f3f-51b5-4502-abd9-95d371abe268",
   "metadata": {},
   "outputs": [
    {
     "name": "stdout",
     "output_type": "stream",
     "text": [
      "      Id  SepalLengthCm  SepalWidthCm  PetalWidthCm         Species\n",
      "0      1            5.1           3.5           0.2     Iris-setosa\n",
      "1      2            4.9           3.0           0.2     Iris-setosa\n",
      "2      3            4.7           3.2           0.2     Iris-setosa\n",
      "3      4            4.6           3.1           0.2     Iris-setosa\n",
      "5      6            5.4           3.9           0.4     Iris-setosa\n",
      "..   ...            ...           ...           ...             ...\n",
      "145  146            6.7           3.0           2.3  Iris-virginica\n",
      "146  147            6.3           2.5           1.9  Iris-virginica\n",
      "147  148            6.5           3.0           2.0  Iris-virginica\n",
      "148  149            6.2           3.4           2.3  Iris-virginica\n",
      "149  150            5.9           3.0           1.8  Iris-virginica\n",
      "\n",
      "[149 rows x 5 columns]\n"
     ]
    }
   ],
   "source": [
    "# Q.5 From the csv file (uploaded in the Q.4) delete row 4, and delete column 3. Display the \n",
    "# resu\n",
    "df = df.drop(index=4)\n",
    "df = df.drop(columns=df.columns[3])\n",
    "print(df)\n"
   ]
  },
  {
   "cell_type": "code",
   "execution_count": 6,
   "id": "4fcf1c48-012f-4405-8ee9-4c1ddf3d8070",
   "metadata": {},
   "outputs": [
    {
     "name": "stdout",
     "output_type": "stream",
     "text": [
      "   Employee_ID     Name Department  Age  Salary  Years_of_Experience  \\\n",
      "0          101    Alice         HR   29   50000                    4   \n",
      "1          102      Bob         IT   34   70000                    8   \n",
      "2          103  Charlie         IT   41   65000                   10   \n",
      "3          104    Diana  Marketing   28   55000                    3   \n",
      "4          105   Edward      Sales   38   60000                   12   \n",
      "\n",
      "  Joining_Date  Gender  Bonus  Rating  \n",
      "0   2020-03-15  Female   5000     4.5  \n",
      "1   2017-07-19    Male   7000     4.0  \n",
      "2   2013-06-01    Male   6000     3.8  \n",
      "3   2021-02-10  Female   4500     4.7  \n",
      "4   2010-11-25    Male   5000     3.5  \n"
     ]
    }
   ],
   "source": [
    "# Q.6 Create a sample dataset (employees.csv) containing information about employees in \n",
    "# a company. \n",
    "\n",
    "import pandas as pd\n",
    "\n",
    "data = {\n",
    "    \"Employee_ID\": [101, 102, 103, 104, 105],\n",
    "    \"Name\": [\"Alice\", \"Bob\", \"Charlie\", \"Diana\", \"Edward\"],\n",
    "    \"Department\": [\"HR\", \"IT\", \"IT\", \"Marketing\", \"Sales\"],\n",
    "    \"Age\": [29, 34, 41, 28, 38],\n",
    "    \"Salary\": [50000, 70000, 65000, 55000, 60000],\n",
    "    \"Years_of_Experience\": [4, 8, 10, 3, 12],\n",
    "    \"Joining_Date\": [\"2020-03-15\", \"2017-07-19\", \"2013-06-01\", \"2021-02-10\", \"2010-11-25\"],\n",
    "    \"Gender\": [\"Female\", \"Male\", \"Male\", \"Female\", \"Male\"],\n",
    "    \"Bonus\": [5000, 7000, 6000, 4500, 5000],\n",
    "    \"Rating\": [4.5, 4.0, 3.8, 4.7, 3.5]\n",
    "}\n",
    "\n",
    "df = pd.DataFrame(data)\n",
    "\n",
    "df.to_csv(\"employees.csv\", index=False)\n",
    "print(df)\n"
   ]
  },
  {
   "cell_type": "code",
   "execution_count": 7,
   "id": "27391c1f-8e18-4f33-a519-183ef6515e75",
   "metadata": {},
   "outputs": [
    {
     "name": "stdout",
     "output_type": "stream",
     "text": [
      "(5, 10)\n"
     ]
    }
   ],
   "source": [
    "# a) Shape (number of rows and columns) of the DataFrame\n",
    "print( df.shape)"
   ]
  },
  {
   "cell_type": "code",
   "execution_count": 8,
   "id": "9bba5166-a3ec-42a8-9647-463085a7ded3",
   "metadata": {},
   "outputs": [
    {
     "name": "stdout",
     "output_type": "stream",
     "text": [
      "<class 'pandas.core.frame.DataFrame'>\n",
      "RangeIndex: 5 entries, 0 to 4\n",
      "Data columns (total 10 columns):\n",
      " #   Column               Non-Null Count  Dtype  \n",
      "---  ------               --------------  -----  \n",
      " 0   Employee_ID          5 non-null      int64  \n",
      " 1   Name                 5 non-null      object \n",
      " 2   Department           5 non-null      object \n",
      " 3   Age                  5 non-null      int64  \n",
      " 4   Salary               5 non-null      int64  \n",
      " 5   Years_of_Experience  5 non-null      int64  \n",
      " 6   Joining_Date         5 non-null      object \n",
      " 7   Gender               5 non-null      object \n",
      " 8   Bonus                5 non-null      int64  \n",
      " 9   Rating               5 non-null      float64\n",
      "dtypes: float64(1), int64(5), object(4)\n",
      "memory usage: 532.0+ bytes\n",
      "None\n"
     ]
    }
   ],
   "source": [
    "# b) Summary of the DataFrame that includes the data types and non-null counts for \n",
    "# each column.\n",
    "print(df.info())"
   ]
  },
  {
   "cell_type": "code",
   "execution_count": 9,
   "id": "dbb701e1-e54a-4bd6-bed7-74d7730e3ef1",
   "metadata": {},
   "outputs": [
    {
     "name": "stdout",
     "output_type": "stream",
     "text": [
      "       Employee_ID        Age       Salary  Years_of_Experience   Bonus  \\\n",
      "count     5.000000   5.000000      5.00000             5.000000     5.0   \n",
      "mean    103.000000  34.000000  60000.00000             7.400000  5500.0   \n",
      "std       1.581139   5.612486   7905.69415             3.847077  1000.0   \n",
      "min     101.000000  28.000000  50000.00000             3.000000  4500.0   \n",
      "25%     102.000000  29.000000  55000.00000             4.000000  5000.0   \n",
      "50%     103.000000  34.000000  60000.00000             8.000000  5000.0   \n",
      "75%     104.000000  38.000000  65000.00000            10.000000  6000.0   \n",
      "max     105.000000  41.000000  70000.00000            12.000000  7000.0   \n",
      "\n",
      "         Rating  \n",
      "count  5.000000  \n",
      "mean   4.100000  \n",
      "std    0.494975  \n",
      "min    3.500000  \n",
      "25%    3.800000  \n",
      "50%    4.000000  \n",
      "75%    4.500000  \n",
      "max    4.700000  \n"
     ]
    }
   ],
   "source": [
    "# c) Generate descriptive statistics\n",
    "print(df.describe())"
   ]
  },
  {
   "cell_type": "code",
   "execution_count": 10,
   "id": "f285724d-3ace-4c95-bf5b-e019a0114ab1",
   "metadata": {},
   "outputs": [
    {
     "name": "stdout",
     "output_type": "stream",
     "text": [
      "   Employee_ID     Name Department  Age  Salary  Years_of_Experience  \\\n",
      "0          101    Alice         HR   29   50000                    4   \n",
      "1          102      Bob         IT   34   70000                    8   \n",
      "2          103  Charlie         IT   41   65000                   10   \n",
      "3          104    Diana  Marketing   28   55000                    3   \n",
      "4          105   Edward      Sales   38   60000                   12   \n",
      "\n",
      "  Joining_Date  Gender  Bonus  Rating  \n",
      "0   2020-03-15  Female   5000     4.5  \n",
      "1   2017-07-19    Male   7000     4.0  \n",
      "2   2013-06-01    Male   6000     3.8  \n",
      "3   2021-02-10  Female   4500     4.7  \n",
      "4   2010-11-25    Male   5000     3.5  \n"
     ]
    }
   ],
   "source": [
    "# d) Display the first 5 rows and last 3 rows of the dataset\n",
    "print(df.head())"
   ]
  },
  {
   "cell_type": "code",
   "execution_count": 11,
   "id": "fd3f9de5-8999-4035-9343-f9bb1515a455",
   "metadata": {},
   "outputs": [
    {
     "name": "stdout",
     "output_type": "stream",
     "text": [
      "   Employee_ID     Name Department  Age  Salary  Years_of_Experience  \\\n",
      "2          103  Charlie         IT   41   65000                   10   \n",
      "3          104    Diana  Marketing   28   55000                    3   \n",
      "4          105   Edward      Sales   38   60000                   12   \n",
      "\n",
      "  Joining_Date  Gender  Bonus  Rating  \n",
      "2   2013-06-01    Male   6000     3.8  \n",
      "3   2021-02-10  Female   4500     4.7  \n",
      "4   2010-11-25    Male   5000     3.5  \n"
     ]
    }
   ],
   "source": [
    "print(df.tail(3))"
   ]
  },
  {
   "cell_type": "code",
   "execution_count": 12,
   "id": "30e2c58e-567f-453a-81dd-e2ff5d52ab28",
   "metadata": {},
   "outputs": [
    {
     "name": "stdout",
     "output_type": "stream",
     "text": [
      "60000.0\n"
     ]
    }
   ],
   "source": [
    "# e) Calculate the following statistics from the dataset: \n",
    "# i. The average salary of employees. \n",
    "# ii. The total bonus paid to all employees. \n",
    "# iii. The youngest employee's age. \n",
    "# iv. The highest performance rating\n",
    "average_salary = df['Salary'].mean()\n",
    "print( average_salary)"
   ]
  },
  {
   "cell_type": "code",
   "execution_count": 13,
   "id": "6ef4f1ca-312c-44a2-91a2-64ffb7c5161e",
   "metadata": {},
   "outputs": [
    {
     "name": "stdout",
     "output_type": "stream",
     "text": [
      "27500\n"
     ]
    }
   ],
   "source": [
    "total_bonus = df['Bonus'].sum()\n",
    "print( total_bonus)"
   ]
  },
  {
   "cell_type": "code",
   "execution_count": 14,
   "id": "42a1d7cb-be0e-4c04-9efd-bec74d58d85f",
   "metadata": {},
   "outputs": [
    {
     "name": "stdout",
     "output_type": "stream",
     "text": [
      "28\n"
     ]
    }
   ],
   "source": [
    "youngest_age = df['Age'].min()\n",
    "print( youngest_age)"
   ]
  },
  {
   "cell_type": "code",
   "execution_count": 15,
   "id": "3a97bb3d-e55b-46e2-9bc6-96397658ab07",
   "metadata": {},
   "outputs": [
    {
     "name": "stdout",
     "output_type": "stream",
     "text": [
      "   Employee_ID     Name Department  Age  Salary  Years_of_Experience  \\\n",
      "1          102      Bob         IT   34   70000                    8   \n",
      "2          103  Charlie         IT   41   65000                   10   \n",
      "4          105   Edward      Sales   38   60000                   12   \n",
      "3          104    Diana  Marketing   28   55000                    3   \n",
      "0          101    Alice         HR   29   50000                    4   \n",
      "\n",
      "  Joining_Date  Gender  Bonus  Rating  \n",
      "1   2017-07-19    Male   7000     4.0  \n",
      "2   2013-06-01    Male   6000     3.8  \n",
      "4   2010-11-25    Male   5000     3.5  \n",
      "3   2021-02-10  Female   4500     4.7  \n",
      "0   2020-03-15  Female   5000     4.5  \n"
     ]
    }
   ],
   "source": [
    "# f) Sort the DataFrame by the Salary column in descending order.\n",
    "sorted_df = df.sort_values(by='Salary', ascending=False)\n",
    "print(sorted_df)"
   ]
  },
  {
   "cell_type": "code",
   "execution_count": 16,
   "id": "c4005d9b-3a3c-481b-9442-ace57e024c74",
   "metadata": {},
   "outputs": [
    {
     "name": "stdout",
     "output_type": "stream",
     "text": [
      "      Name  Rating Performance_Category\n",
      "0    Alice     4.5            Excellent\n",
      "1      Bob     4.0                 Good\n",
      "2  Charlie     3.8              Average\n",
      "3    Diana     4.7            Excellent\n",
      "4   Edward     3.5              Average\n"
     ]
    }
   ],
   "source": [
    "# g) Add a new column that categorizes employees based on their performance rating: \n",
    "# i. Excellent for ratings >= 4.5 \n",
    "# ii. Good for ratings >= 4.0 but < 4.5 \n",
    "# iii. Average for ratings < 4.0 \n",
    "\n",
    "def categorize_performance(rating):\n",
    "    if rating >= 4.5:\n",
    "        return 'Excellent'\n",
    "    elif rating >= 4.0:\n",
    "        return 'Good'\n",
    "    else:\n",
    "        return 'Average'\n",
    "df['Performance_Category'] = df['Rating'].apply(categorize_performance)\n",
    "print(df[['Name', 'Rating', 'Performance_Category']])\n"
   ]
  },
  {
   "cell_type": "code",
   "execution_count": 17,
   "id": "cd32799c-12e2-41f7-af2b-df846fcecaad",
   "metadata": {},
   "outputs": [
    {
     "name": "stdout",
     "output_type": "stream",
     "text": [
      "Employee_ID             0\n",
      "Name                    0\n",
      "Department              0\n",
      "Age                     0\n",
      "Salary                  0\n",
      "Years_of_Experience     0\n",
      "Joining_Date            0\n",
      "Gender                  0\n",
      "Bonus                   0\n",
      "Rating                  0\n",
      "Performance_Category    0\n",
      "dtype: int64\n"
     ]
    }
   ],
   "source": [
    "# h) Identify missing values in the DataFrame.\n",
    "missing_values = df.isnull().sum()\n",
    "print(missing_values)"
   ]
  },
  {
   "cell_type": "code",
   "execution_count": 18,
   "id": "d39611b7-53e2-4f42-a6fb-b63b1cea3a75",
   "metadata": {},
   "outputs": [
    {
     "name": "stdout",
     "output_type": "stream",
     "text": [
      "    ID     Name Department  Age  Salary  Years_of_Experience Joining_Date  \\\n",
      "0  101    Alice         HR   29   50000                    4   2020-03-15   \n",
      "1  102      Bob         IT   34   70000                    8   2017-07-19   \n",
      "2  103  Charlie         IT   41   65000                   10   2013-06-01   \n",
      "3  104    Diana  Marketing   28   55000                    3   2021-02-10   \n",
      "4  105   Edward      Sales   38   60000                   12   2010-11-25   \n",
      "\n",
      "   Gender  Bonus  Rating Performance_Category  \n",
      "0  Female   5000     4.5            Excellent  \n",
      "1    Male   7000     4.0                 Good  \n",
      "2    Male   6000     3.8              Average  \n",
      "3  Female   4500     4.7            Excellent  \n",
      "4    Male   5000     3.5              Average  \n"
     ]
    }
   ],
   "source": [
    "# i) Rename the Employee_ID column to ID.\n",
    "df.rename(columns={'Employee_ID': 'ID'}, inplace=True)\n",
    "print(df)"
   ]
  },
  {
   "cell_type": "code",
   "execution_count": 19,
   "id": "172aa74e-3a8a-4573-a93e-514aeff78eee",
   "metadata": {},
   "outputs": [
    {
     "name": "stdout",
     "output_type": "stream",
     "text": [
      "    ID     Name Department  Age  Salary  Years_of_Experience Joining_Date  \\\n",
      "1  102      Bob         IT   34   70000                    8   2017-07-19   \n",
      "2  103  Charlie         IT   41   65000                   10   2013-06-01   \n",
      "4  105   Edward      Sales   38   60000                   12   2010-11-25   \n",
      "\n",
      "  Gender  Bonus  Rating Performance_Category  \n",
      "1   Male   7000     4.0                 Good  \n",
      "2   Male   6000     3.8              Average  \n",
      "4   Male   5000     3.5              Average  \n"
     ]
    }
   ],
   "source": [
    "# j) Find all employees who: \n",
    "# i. Have more than 5 years of experience. \n",
    "# ii. Belong to the IT department. \n",
    "\n",
    "more_than_5_years_exp = df[df['Years_of_Experience'] > 5]\n",
    "print(more_than_5_years_exp)"
   ]
  },
  {
   "cell_type": "code",
   "execution_count": 20,
   "id": "a3d5e908-6b43-4d17-b2e7-a178c54b0c5f",
   "metadata": {},
   "outputs": [
    {
     "name": "stdout",
     "output_type": "stream",
     "text": [
      "    ID     Name Department  Age  Salary  Years_of_Experience Joining_Date  \\\n",
      "1  102      Bob         IT   34   70000                    8   2017-07-19   \n",
      "2  103  Charlie         IT   41   65000                   10   2013-06-01   \n",
      "\n",
      "  Gender  Bonus  Rating Performance_Category  \n",
      "1   Male   7000     4.0                 Good  \n",
      "2   Male   6000     3.8              Average  \n"
     ]
    }
   ],
   "source": [
    "\n",
    "it_department = df[df['Department'] == 'IT']\n",
    "print(it_department)"
   ]
  },
  {
   "cell_type": "code",
   "execution_count": 21,
   "id": "be8dcead-160e-45e2-9c90-7594c4ab95b5",
   "metadata": {},
   "outputs": [
    {
     "name": "stdout",
     "output_type": "stream",
     "text": [
      "    ID     Name Department  Age  Salary  Years_of_Experience Joining_Date  \\\n",
      "0  101    Alice         HR   29   50000                    4   2020-03-15   \n",
      "1  102      Bob         IT   34   70000                    8   2017-07-19   \n",
      "2  103  Charlie         IT   41   65000                   10   2013-06-01   \n",
      "3  104    Diana  Marketing   28   55000                    3   2021-02-10   \n",
      "4  105   Edward      Sales   38   60000                   12   2010-11-25   \n",
      "\n",
      "   Gender  Bonus  Rating Performance_Category     Tax  \n",
      "0  Female   5000     4.5            Excellent  5000.0  \n",
      "1    Male   7000     4.0                 Good  7000.0  \n",
      "2    Male   6000     3.8              Average  6500.0  \n",
      "3  Female   4500     4.7            Excellent  5500.0  \n",
      "4    Male   5000     3.5              Average  6000.0  \n"
     ]
    }
   ],
   "source": [
    "df['Tax'] = df['Salary'] * 0.10\n",
    "print(df)\n"
   ]
  },
  {
   "cell_type": "code",
   "execution_count": 22,
   "id": "30d7c315-c39c-4cac-8e92-a96ddc169e7e",
   "metadata": {},
   "outputs": [],
   "source": [
    "df.to_csv(\"modified_employees.csv\", index=False)"
   ]
  },
  {
   "cell_type": "code",
   "execution_count": null,
   "id": "929e678c-e39e-4497-921f-69c59fce44bc",
   "metadata": {},
   "outputs": [],
   "source": []
  }
 ],
 "metadata": {
  "kernelspec": {
   "display_name": "Python 3 (ipykernel)",
   "language": "python",
   "name": "python3"
  },
  "language_info": {
   "codemirror_mode": {
    "name": "ipython",
    "version": 3
   },
   "file_extension": ".py",
   "mimetype": "text/x-python",
   "name": "python",
   "nbconvert_exporter": "python",
   "pygments_lexer": "ipython3",
   "version": "3.11.3"
  }
 },
 "nbformat": 4,
 "nbformat_minor": 5
}
